{
 "cells": [
  {
   "cell_type": "markdown",
   "metadata": {},
   "source": [
    "# House Rocket Company Project"
   ]
  },
  {
   "cell_type": "markdown",
   "metadata": {},
   "source": [
    "## 1. Load Packages"
   ]
  },
  {
   "cell_type": "code",
   "execution_count": 60,
   "metadata": {},
   "outputs": [],
   "source": [
    "import pandas as pd\n",
    "import numpy as np\n",
    "import matplotlib.pyplot as plt\n",
    "import seaborn as sns\n",
    "import os\n",
    "from datetime import datetime\n",
    "import plotly.express as px\n",
    "pd.options.display.float_format = '{:,.2f}'.format\n",
    "# from pypi import heatmap, corrplot"
   ]
  },
  {
   "cell_type": "markdown",
   "metadata": {},
   "source": [
    "## 2. Data Set Import & Wrangling"
   ]
  },
  {
   "cell_type": "code",
   "execution_count": 2,
   "metadata": {},
   "outputs": [
    {
     "data": {
      "text/html": [
       "<div>\n",
       "<style scoped>\n",
       "    .dataframe tbody tr th:only-of-type {\n",
       "        vertical-align: middle;\n",
       "    }\n",
       "\n",
       "    .dataframe tbody tr th {\n",
       "        vertical-align: top;\n",
       "    }\n",
       "\n",
       "    .dataframe thead th {\n",
       "        text-align: right;\n",
       "    }\n",
       "</style>\n",
       "<table border=\"1\" class=\"dataframe\">\n",
       "  <thead>\n",
       "    <tr style=\"text-align: right;\">\n",
       "      <th></th>\n",
       "      <th>id</th>\n",
       "      <th>date</th>\n",
       "      <th>price</th>\n",
       "      <th>bedrooms</th>\n",
       "      <th>bathrooms</th>\n",
       "      <th>sqft_living</th>\n",
       "      <th>sqft_lot</th>\n",
       "      <th>floors</th>\n",
       "      <th>waterfront</th>\n",
       "      <th>view</th>\n",
       "      <th>...</th>\n",
       "      <th>grade</th>\n",
       "      <th>sqft_above</th>\n",
       "      <th>sqft_basement</th>\n",
       "      <th>yr_built</th>\n",
       "      <th>yr_renovated</th>\n",
       "      <th>zipcode</th>\n",
       "      <th>lat</th>\n",
       "      <th>long</th>\n",
       "      <th>sqft_living15</th>\n",
       "      <th>sqft_lot15</th>\n",
       "    </tr>\n",
       "  </thead>\n",
       "  <tbody>\n",
       "    <tr>\n",
       "      <th>0</th>\n",
       "      <td>7129300520</td>\n",
       "      <td>20141013T000000</td>\n",
       "      <td>221,900.00</td>\n",
       "      <td>3</td>\n",
       "      <td>1.00</td>\n",
       "      <td>1180</td>\n",
       "      <td>5650</td>\n",
       "      <td>1.00</td>\n",
       "      <td>0</td>\n",
       "      <td>0</td>\n",
       "      <td>...</td>\n",
       "      <td>7</td>\n",
       "      <td>1180</td>\n",
       "      <td>0</td>\n",
       "      <td>1955</td>\n",
       "      <td>0</td>\n",
       "      <td>98178</td>\n",
       "      <td>47.51</td>\n",
       "      <td>-122.26</td>\n",
       "      <td>1340</td>\n",
       "      <td>5650</td>\n",
       "    </tr>\n",
       "    <tr>\n",
       "      <th>1</th>\n",
       "      <td>6414100192</td>\n",
       "      <td>20141209T000000</td>\n",
       "      <td>538,000.00</td>\n",
       "      <td>3</td>\n",
       "      <td>2.25</td>\n",
       "      <td>2570</td>\n",
       "      <td>7242</td>\n",
       "      <td>2.00</td>\n",
       "      <td>0</td>\n",
       "      <td>0</td>\n",
       "      <td>...</td>\n",
       "      <td>7</td>\n",
       "      <td>2170</td>\n",
       "      <td>400</td>\n",
       "      <td>1951</td>\n",
       "      <td>1991</td>\n",
       "      <td>98125</td>\n",
       "      <td>47.72</td>\n",
       "      <td>-122.32</td>\n",
       "      <td>1690</td>\n",
       "      <td>7639</td>\n",
       "    </tr>\n",
       "    <tr>\n",
       "      <th>2</th>\n",
       "      <td>5631500400</td>\n",
       "      <td>20150225T000000</td>\n",
       "      <td>180,000.00</td>\n",
       "      <td>2</td>\n",
       "      <td>1.00</td>\n",
       "      <td>770</td>\n",
       "      <td>10000</td>\n",
       "      <td>1.00</td>\n",
       "      <td>0</td>\n",
       "      <td>0</td>\n",
       "      <td>...</td>\n",
       "      <td>6</td>\n",
       "      <td>770</td>\n",
       "      <td>0</td>\n",
       "      <td>1933</td>\n",
       "      <td>0</td>\n",
       "      <td>98028</td>\n",
       "      <td>47.74</td>\n",
       "      <td>-122.23</td>\n",
       "      <td>2720</td>\n",
       "      <td>8062</td>\n",
       "    </tr>\n",
       "    <tr>\n",
       "      <th>3</th>\n",
       "      <td>2487200875</td>\n",
       "      <td>20141209T000000</td>\n",
       "      <td>604,000.00</td>\n",
       "      <td>4</td>\n",
       "      <td>3.00</td>\n",
       "      <td>1960</td>\n",
       "      <td>5000</td>\n",
       "      <td>1.00</td>\n",
       "      <td>0</td>\n",
       "      <td>0</td>\n",
       "      <td>...</td>\n",
       "      <td>7</td>\n",
       "      <td>1050</td>\n",
       "      <td>910</td>\n",
       "      <td>1965</td>\n",
       "      <td>0</td>\n",
       "      <td>98136</td>\n",
       "      <td>47.52</td>\n",
       "      <td>-122.39</td>\n",
       "      <td>1360</td>\n",
       "      <td>5000</td>\n",
       "    </tr>\n",
       "    <tr>\n",
       "      <th>4</th>\n",
       "      <td>1954400510</td>\n",
       "      <td>20150218T000000</td>\n",
       "      <td>510,000.00</td>\n",
       "      <td>3</td>\n",
       "      <td>2.00</td>\n",
       "      <td>1680</td>\n",
       "      <td>8080</td>\n",
       "      <td>1.00</td>\n",
       "      <td>0</td>\n",
       "      <td>0</td>\n",
       "      <td>...</td>\n",
       "      <td>8</td>\n",
       "      <td>1680</td>\n",
       "      <td>0</td>\n",
       "      <td>1987</td>\n",
       "      <td>0</td>\n",
       "      <td>98074</td>\n",
       "      <td>47.62</td>\n",
       "      <td>-122.05</td>\n",
       "      <td>1800</td>\n",
       "      <td>7503</td>\n",
       "    </tr>\n",
       "  </tbody>\n",
       "</table>\n",
       "<p>5 rows × 21 columns</p>\n",
       "</div>"
      ],
      "text/plain": [
       "           id             date      price  bedrooms  bathrooms  sqft_living  \\\n",
       "0  7129300520  20141013T000000 221,900.00         3       1.00         1180   \n",
       "1  6414100192  20141209T000000 538,000.00         3       2.25         2570   \n",
       "2  5631500400  20150225T000000 180,000.00         2       1.00          770   \n",
       "3  2487200875  20141209T000000 604,000.00         4       3.00         1960   \n",
       "4  1954400510  20150218T000000 510,000.00         3       2.00         1680   \n",
       "\n",
       "   sqft_lot  floors  waterfront  view  ...  grade  sqft_above  sqft_basement  \\\n",
       "0      5650    1.00           0     0  ...      7        1180              0   \n",
       "1      7242    2.00           0     0  ...      7        2170            400   \n",
       "2     10000    1.00           0     0  ...      6         770              0   \n",
       "3      5000    1.00           0     0  ...      7        1050            910   \n",
       "4      8080    1.00           0     0  ...      8        1680              0   \n",
       "\n",
       "   yr_built  yr_renovated  zipcode   lat    long  sqft_living15  sqft_lot15  \n",
       "0      1955             0    98178 47.51 -122.26           1340        5650  \n",
       "1      1951          1991    98125 47.72 -122.32           1690        7639  \n",
       "2      1933             0    98028 47.74 -122.23           2720        8062  \n",
       "3      1965             0    98136 47.52 -122.39           1360        5000  \n",
       "4      1987             0    98074 47.62 -122.05           1800        7503  \n",
       "\n",
       "[5 rows x 21 columns]"
      ]
     },
     "execution_count": 2,
     "metadata": {},
     "output_type": "execute_result"
    }
   ],
   "source": [
    "path = os.getcwd()\n",
    "data = pd.read_csv(path + '/kc_house_data.csv')\n",
    "data.head()"
   ]
  },
  {
   "cell_type": "code",
   "execution_count": 3,
   "metadata": {},
   "outputs": [
    {
     "data": {
      "text/plain": [
       "(21613, 21)"
      ]
     },
     "execution_count": 3,
     "metadata": {},
     "output_type": "execute_result"
    }
   ],
   "source": [
    "data.shape"
   ]
  },
  {
   "cell_type": "code",
   "execution_count": 4,
   "metadata": {},
   "outputs": [
    {
     "data": {
      "text/plain": [
       "Index(['id', 'date', 'price', 'bedrooms', 'bathrooms', 'sqft_living',\n",
       "       'sqft_lot', 'floors', 'waterfront', 'view', 'condition', 'grade',\n",
       "       'sqft_above', 'sqft_basement', 'yr_built', 'yr_renovated', 'zipcode',\n",
       "       'lat', 'long', 'sqft_living15', 'sqft_lot15'],\n",
       "      dtype='object')"
      ]
     },
     "execution_count": 4,
     "metadata": {},
     "output_type": "execute_result"
    }
   ],
   "source": [
    "data.columns"
   ]
  },
  {
   "cell_type": "code",
   "execution_count": 5,
   "metadata": {},
   "outputs": [
    {
     "data": {
      "text/html": [
       "<div>\n",
       "<style scoped>\n",
       "    .dataframe tbody tr th:only-of-type {\n",
       "        vertical-align: middle;\n",
       "    }\n",
       "\n",
       "    .dataframe tbody tr th {\n",
       "        vertical-align: top;\n",
       "    }\n",
       "\n",
       "    .dataframe thead th {\n",
       "        text-align: right;\n",
       "    }\n",
       "</style>\n",
       "<table border=\"1\" class=\"dataframe\">\n",
       "  <thead>\n",
       "    <tr style=\"text-align: right;\">\n",
       "      <th></th>\n",
       "      <th>id</th>\n",
       "      <th>price</th>\n",
       "      <th>bedrooms</th>\n",
       "      <th>bathrooms</th>\n",
       "      <th>sqft_living</th>\n",
       "      <th>sqft_lot</th>\n",
       "      <th>floors</th>\n",
       "      <th>waterfront</th>\n",
       "      <th>view</th>\n",
       "      <th>condition</th>\n",
       "      <th>grade</th>\n",
       "      <th>sqft_above</th>\n",
       "      <th>sqft_basement</th>\n",
       "      <th>yr_built</th>\n",
       "      <th>yr_renovated</th>\n",
       "      <th>zipcode</th>\n",
       "      <th>lat</th>\n",
       "      <th>long</th>\n",
       "      <th>sqft_living15</th>\n",
       "      <th>sqft_lot15</th>\n",
       "    </tr>\n",
       "  </thead>\n",
       "  <tbody>\n",
       "    <tr>\n",
       "      <th>count</th>\n",
       "      <td>21,613.00</td>\n",
       "      <td>21,613.00</td>\n",
       "      <td>21,613.00</td>\n",
       "      <td>21,613.00</td>\n",
       "      <td>21,613.00</td>\n",
       "      <td>21,613.00</td>\n",
       "      <td>21,613.00</td>\n",
       "      <td>21,613.00</td>\n",
       "      <td>21,613.00</td>\n",
       "      <td>21,613.00</td>\n",
       "      <td>21,613.00</td>\n",
       "      <td>21,613.00</td>\n",
       "      <td>21,613.00</td>\n",
       "      <td>21,613.00</td>\n",
       "      <td>21,613.00</td>\n",
       "      <td>21,613.00</td>\n",
       "      <td>21,613.00</td>\n",
       "      <td>21,613.00</td>\n",
       "      <td>21,613.00</td>\n",
       "      <td>21,613.00</td>\n",
       "    </tr>\n",
       "    <tr>\n",
       "      <th>mean</th>\n",
       "      <td>4,580,301,520.86</td>\n",
       "      <td>540,088.14</td>\n",
       "      <td>3.37</td>\n",
       "      <td>2.11</td>\n",
       "      <td>2,079.90</td>\n",
       "      <td>15,106.97</td>\n",
       "      <td>1.49</td>\n",
       "      <td>0.01</td>\n",
       "      <td>0.23</td>\n",
       "      <td>3.41</td>\n",
       "      <td>7.66</td>\n",
       "      <td>1,788.39</td>\n",
       "      <td>291.51</td>\n",
       "      <td>1,971.01</td>\n",
       "      <td>84.40</td>\n",
       "      <td>98,077.94</td>\n",
       "      <td>47.56</td>\n",
       "      <td>-122.21</td>\n",
       "      <td>1,986.55</td>\n",
       "      <td>12,768.46</td>\n",
       "    </tr>\n",
       "    <tr>\n",
       "      <th>std</th>\n",
       "      <td>2,876,565,571.31</td>\n",
       "      <td>367,127.20</td>\n",
       "      <td>0.93</td>\n",
       "      <td>0.77</td>\n",
       "      <td>918.44</td>\n",
       "      <td>41,420.51</td>\n",
       "      <td>0.54</td>\n",
       "      <td>0.09</td>\n",
       "      <td>0.77</td>\n",
       "      <td>0.65</td>\n",
       "      <td>1.18</td>\n",
       "      <td>828.09</td>\n",
       "      <td>442.58</td>\n",
       "      <td>29.37</td>\n",
       "      <td>401.68</td>\n",
       "      <td>53.51</td>\n",
       "      <td>0.14</td>\n",
       "      <td>0.14</td>\n",
       "      <td>685.39</td>\n",
       "      <td>27,304.18</td>\n",
       "    </tr>\n",
       "    <tr>\n",
       "      <th>min</th>\n",
       "      <td>1,000,102.00</td>\n",
       "      <td>75,000.00</td>\n",
       "      <td>0.00</td>\n",
       "      <td>0.00</td>\n",
       "      <td>290.00</td>\n",
       "      <td>520.00</td>\n",
       "      <td>1.00</td>\n",
       "      <td>0.00</td>\n",
       "      <td>0.00</td>\n",
       "      <td>1.00</td>\n",
       "      <td>1.00</td>\n",
       "      <td>290.00</td>\n",
       "      <td>0.00</td>\n",
       "      <td>1,900.00</td>\n",
       "      <td>0.00</td>\n",
       "      <td>98,001.00</td>\n",
       "      <td>47.16</td>\n",
       "      <td>-122.52</td>\n",
       "      <td>399.00</td>\n",
       "      <td>651.00</td>\n",
       "    </tr>\n",
       "    <tr>\n",
       "      <th>25%</th>\n",
       "      <td>2,123,049,194.00</td>\n",
       "      <td>321,950.00</td>\n",
       "      <td>3.00</td>\n",
       "      <td>1.75</td>\n",
       "      <td>1,427.00</td>\n",
       "      <td>5,040.00</td>\n",
       "      <td>1.00</td>\n",
       "      <td>0.00</td>\n",
       "      <td>0.00</td>\n",
       "      <td>3.00</td>\n",
       "      <td>7.00</td>\n",
       "      <td>1,190.00</td>\n",
       "      <td>0.00</td>\n",
       "      <td>1,951.00</td>\n",
       "      <td>0.00</td>\n",
       "      <td>98,033.00</td>\n",
       "      <td>47.47</td>\n",
       "      <td>-122.33</td>\n",
       "      <td>1,490.00</td>\n",
       "      <td>5,100.00</td>\n",
       "    </tr>\n",
       "    <tr>\n",
       "      <th>50%</th>\n",
       "      <td>3,904,930,410.00</td>\n",
       "      <td>450,000.00</td>\n",
       "      <td>3.00</td>\n",
       "      <td>2.25</td>\n",
       "      <td>1,910.00</td>\n",
       "      <td>7,618.00</td>\n",
       "      <td>1.50</td>\n",
       "      <td>0.00</td>\n",
       "      <td>0.00</td>\n",
       "      <td>3.00</td>\n",
       "      <td>7.00</td>\n",
       "      <td>1,560.00</td>\n",
       "      <td>0.00</td>\n",
       "      <td>1,975.00</td>\n",
       "      <td>0.00</td>\n",
       "      <td>98,065.00</td>\n",
       "      <td>47.57</td>\n",
       "      <td>-122.23</td>\n",
       "      <td>1,840.00</td>\n",
       "      <td>7,620.00</td>\n",
       "    </tr>\n",
       "    <tr>\n",
       "      <th>75%</th>\n",
       "      <td>7,308,900,445.00</td>\n",
       "      <td>645,000.00</td>\n",
       "      <td>4.00</td>\n",
       "      <td>2.50</td>\n",
       "      <td>2,550.00</td>\n",
       "      <td>10,688.00</td>\n",
       "      <td>2.00</td>\n",
       "      <td>0.00</td>\n",
       "      <td>0.00</td>\n",
       "      <td>4.00</td>\n",
       "      <td>8.00</td>\n",
       "      <td>2,210.00</td>\n",
       "      <td>560.00</td>\n",
       "      <td>1,997.00</td>\n",
       "      <td>0.00</td>\n",
       "      <td>98,118.00</td>\n",
       "      <td>47.68</td>\n",
       "      <td>-122.12</td>\n",
       "      <td>2,360.00</td>\n",
       "      <td>10,083.00</td>\n",
       "    </tr>\n",
       "    <tr>\n",
       "      <th>max</th>\n",
       "      <td>9,900,000,190.00</td>\n",
       "      <td>7,700,000.00</td>\n",
       "      <td>33.00</td>\n",
       "      <td>8.00</td>\n",
       "      <td>13,540.00</td>\n",
       "      <td>1,651,359.00</td>\n",
       "      <td>3.50</td>\n",
       "      <td>1.00</td>\n",
       "      <td>4.00</td>\n",
       "      <td>5.00</td>\n",
       "      <td>13.00</td>\n",
       "      <td>9,410.00</td>\n",
       "      <td>4,820.00</td>\n",
       "      <td>2,015.00</td>\n",
       "      <td>2,015.00</td>\n",
       "      <td>98,199.00</td>\n",
       "      <td>47.78</td>\n",
       "      <td>-121.31</td>\n",
       "      <td>6,210.00</td>\n",
       "      <td>871,200.00</td>\n",
       "    </tr>\n",
       "  </tbody>\n",
       "</table>\n",
       "</div>"
      ],
      "text/plain": [
       "                    id        price  bedrooms  bathrooms  sqft_living  \\\n",
       "count        21,613.00    21,613.00 21,613.00  21,613.00    21,613.00   \n",
       "mean  4,580,301,520.86   540,088.14      3.37       2.11     2,079.90   \n",
       "std   2,876,565,571.31   367,127.20      0.93       0.77       918.44   \n",
       "min       1,000,102.00    75,000.00      0.00       0.00       290.00   \n",
       "25%   2,123,049,194.00   321,950.00      3.00       1.75     1,427.00   \n",
       "50%   3,904,930,410.00   450,000.00      3.00       2.25     1,910.00   \n",
       "75%   7,308,900,445.00   645,000.00      4.00       2.50     2,550.00   \n",
       "max   9,900,000,190.00 7,700,000.00     33.00       8.00    13,540.00   \n",
       "\n",
       "          sqft_lot    floors  waterfront      view  condition     grade  \\\n",
       "count    21,613.00 21,613.00   21,613.00 21,613.00  21,613.00 21,613.00   \n",
       "mean     15,106.97      1.49        0.01      0.23       3.41      7.66   \n",
       "std      41,420.51      0.54        0.09      0.77       0.65      1.18   \n",
       "min         520.00      1.00        0.00      0.00       1.00      1.00   \n",
       "25%       5,040.00      1.00        0.00      0.00       3.00      7.00   \n",
       "50%       7,618.00      1.50        0.00      0.00       3.00      7.00   \n",
       "75%      10,688.00      2.00        0.00      0.00       4.00      8.00   \n",
       "max   1,651,359.00      3.50        1.00      4.00       5.00     13.00   \n",
       "\n",
       "       sqft_above  sqft_basement  yr_built  yr_renovated   zipcode       lat  \\\n",
       "count   21,613.00      21,613.00 21,613.00     21,613.00 21,613.00 21,613.00   \n",
       "mean     1,788.39         291.51  1,971.01         84.40 98,077.94     47.56   \n",
       "std        828.09         442.58     29.37        401.68     53.51      0.14   \n",
       "min        290.00           0.00  1,900.00          0.00 98,001.00     47.16   \n",
       "25%      1,190.00           0.00  1,951.00          0.00 98,033.00     47.47   \n",
       "50%      1,560.00           0.00  1,975.00          0.00 98,065.00     47.57   \n",
       "75%      2,210.00         560.00  1,997.00          0.00 98,118.00     47.68   \n",
       "max      9,410.00       4,820.00  2,015.00      2,015.00 98,199.00     47.78   \n",
       "\n",
       "           long  sqft_living15  sqft_lot15  \n",
       "count 21,613.00      21,613.00   21,613.00  \n",
       "mean    -122.21       1,986.55   12,768.46  \n",
       "std        0.14         685.39   27,304.18  \n",
       "min     -122.52         399.00      651.00  \n",
       "25%     -122.33       1,490.00    5,100.00  \n",
       "50%     -122.23       1,840.00    7,620.00  \n",
       "75%     -122.12       2,360.00   10,083.00  \n",
       "max     -121.31       6,210.00  871,200.00  "
      ]
     },
     "execution_count": 5,
     "metadata": {},
     "output_type": "execute_result"
    }
   ],
   "source": [
    "data.describe()"
   ]
  },
  {
   "cell_type": "code",
   "execution_count": 6,
   "metadata": {},
   "outputs": [
    {
     "data": {
      "text/plain": [
       "id                 int64\n",
       "date              object\n",
       "price            float64\n",
       "bedrooms           int64\n",
       "bathrooms        float64\n",
       "sqft_living        int64\n",
       "sqft_lot           int64\n",
       "floors           float64\n",
       "waterfront         int64\n",
       "view               int64\n",
       "condition          int64\n",
       "grade              int64\n",
       "sqft_above         int64\n",
       "sqft_basement      int64\n",
       "yr_built           int64\n",
       "yr_renovated       int64\n",
       "zipcode            int64\n",
       "lat              float64\n",
       "long             float64\n",
       "sqft_living15      int64\n",
       "sqft_lot15         int64\n",
       "dtype: object"
      ]
     },
     "execution_count": 6,
     "metadata": {},
     "output_type": "execute_result"
    }
   ],
   "source": [
    "data.dtypes"
   ]
  },
  {
   "cell_type": "markdown",
   "metadata": {},
   "source": [
    "Here we have column 'date' as an object type, let's change it to datetime."
   ]
  },
  {
   "cell_type": "code",
   "execution_count": 7,
   "metadata": {},
   "outputs": [],
   "source": [
    "data['date'] = pd.to_datetime(data['date'])"
   ]
  },
  {
   "cell_type": "code",
   "execution_count": 8,
   "metadata": {},
   "outputs": [
    {
     "data": {
      "text/plain": [
       "id                        int64\n",
       "date             datetime64[ns]\n",
       "price                   float64\n",
       "bedrooms                  int64\n",
       "bathrooms               float64\n",
       "sqft_living               int64\n",
       "sqft_lot                  int64\n",
       "floors                  float64\n",
       "waterfront                int64\n",
       "view                      int64\n",
       "condition                 int64\n",
       "grade                     int64\n",
       "sqft_above                int64\n",
       "sqft_basement             int64\n",
       "yr_built                  int64\n",
       "yr_renovated              int64\n",
       "zipcode                   int64\n",
       "lat                     float64\n",
       "long                    float64\n",
       "sqft_living15             int64\n",
       "sqft_lot15                int64\n",
       "dtype: object"
      ]
     },
     "execution_count": 8,
     "metadata": {},
     "output_type": "execute_result"
    }
   ],
   "source": [
    "data.dtypes"
   ]
  },
  {
   "cell_type": "markdown",
   "metadata": {},
   "source": [
    "### 2.1 Cleaning Data\n",
    "First, we check if there are any missing values."
   ]
  },
  {
   "cell_type": "code",
   "execution_count": 9,
   "metadata": {},
   "outputs": [
    {
     "data": {
      "text/html": [
       "<div>\n",
       "<style scoped>\n",
       "    .dataframe tbody tr th:only-of-type {\n",
       "        vertical-align: middle;\n",
       "    }\n",
       "\n",
       "    .dataframe tbody tr th {\n",
       "        vertical-align: top;\n",
       "    }\n",
       "\n",
       "    .dataframe thead th {\n",
       "        text-align: right;\n",
       "    }\n",
       "</style>\n",
       "<table border=\"1\" class=\"dataframe\">\n",
       "  <thead>\n",
       "    <tr style=\"text-align: right;\">\n",
       "      <th></th>\n",
       "      <th>MissValCount</th>\n",
       "    </tr>\n",
       "  </thead>\n",
       "  <tbody>\n",
       "    <tr>\n",
       "      <th>id</th>\n",
       "      <td>0</td>\n",
       "    </tr>\n",
       "    <tr>\n",
       "      <th>grade</th>\n",
       "      <td>0</td>\n",
       "    </tr>\n",
       "    <tr>\n",
       "      <th>sqft_living15</th>\n",
       "      <td>0</td>\n",
       "    </tr>\n",
       "    <tr>\n",
       "      <th>long</th>\n",
       "      <td>0</td>\n",
       "    </tr>\n",
       "    <tr>\n",
       "      <th>lat</th>\n",
       "      <td>0</td>\n",
       "    </tr>\n",
       "    <tr>\n",
       "      <th>zipcode</th>\n",
       "      <td>0</td>\n",
       "    </tr>\n",
       "    <tr>\n",
       "      <th>yr_renovated</th>\n",
       "      <td>0</td>\n",
       "    </tr>\n",
       "    <tr>\n",
       "      <th>yr_built</th>\n",
       "      <td>0</td>\n",
       "    </tr>\n",
       "    <tr>\n",
       "      <th>sqft_basement</th>\n",
       "      <td>0</td>\n",
       "    </tr>\n",
       "    <tr>\n",
       "      <th>sqft_above</th>\n",
       "      <td>0</td>\n",
       "    </tr>\n",
       "    <tr>\n",
       "      <th>condition</th>\n",
       "      <td>0</td>\n",
       "    </tr>\n",
       "    <tr>\n",
       "      <th>date</th>\n",
       "      <td>0</td>\n",
       "    </tr>\n",
       "    <tr>\n",
       "      <th>view</th>\n",
       "      <td>0</td>\n",
       "    </tr>\n",
       "    <tr>\n",
       "      <th>waterfront</th>\n",
       "      <td>0</td>\n",
       "    </tr>\n",
       "    <tr>\n",
       "      <th>floors</th>\n",
       "      <td>0</td>\n",
       "    </tr>\n",
       "    <tr>\n",
       "      <th>sqft_lot</th>\n",
       "      <td>0</td>\n",
       "    </tr>\n",
       "    <tr>\n",
       "      <th>sqft_living</th>\n",
       "      <td>0</td>\n",
       "    </tr>\n",
       "    <tr>\n",
       "      <th>bathrooms</th>\n",
       "      <td>0</td>\n",
       "    </tr>\n",
       "    <tr>\n",
       "      <th>bedrooms</th>\n",
       "      <td>0</td>\n",
       "    </tr>\n",
       "    <tr>\n",
       "      <th>price</th>\n",
       "      <td>0</td>\n",
       "    </tr>\n",
       "    <tr>\n",
       "      <th>sqft_lot15</th>\n",
       "      <td>0</td>\n",
       "    </tr>\n",
       "  </tbody>\n",
       "</table>\n",
       "</div>"
      ],
      "text/plain": [
       "               MissValCount\n",
       "id                        0\n",
       "grade                     0\n",
       "sqft_living15             0\n",
       "long                      0\n",
       "lat                       0\n",
       "zipcode                   0\n",
       "yr_renovated              0\n",
       "yr_built                  0\n",
       "sqft_basement             0\n",
       "sqft_above                0\n",
       "condition                 0\n",
       "date                      0\n",
       "view                      0\n",
       "waterfront                0\n",
       "floors                    0\n",
       "sqft_lot                  0\n",
       "sqft_living               0\n",
       "bathrooms                 0\n",
       "bedrooms                  0\n",
       "price                     0\n",
       "sqft_lot15                0"
      ]
     },
     "execution_count": 9,
     "metadata": {},
     "output_type": "execute_result"
    }
   ],
   "source": [
    "data.isnull().sum()\n",
    "miss_val = data.isnull().sum().sort_values(ascending=False)\n",
    "miss_val = pd.DataFrame(data=data.isnull().sum().sort_values(ascending=False), columns=['MissValCount'])\n",
    "miss_val"
   ]
  },
  {
   "cell_type": "markdown",
   "metadata": {},
   "source": [
    "There are no missing values, let's check for the duplicates."
   ]
  },
  {
   "cell_type": "code",
   "execution_count": 10,
   "metadata": {},
   "outputs": [
    {
     "data": {
      "text/html": [
       "<div>\n",
       "<style scoped>\n",
       "    .dataframe tbody tr th:only-of-type {\n",
       "        vertical-align: middle;\n",
       "    }\n",
       "\n",
       "    .dataframe tbody tr th {\n",
       "        vertical-align: top;\n",
       "    }\n",
       "\n",
       "    .dataframe thead th {\n",
       "        text-align: right;\n",
       "    }\n",
       "</style>\n",
       "<table border=\"1\" class=\"dataframe\">\n",
       "  <thead>\n",
       "    <tr style=\"text-align: right;\">\n",
       "      <th></th>\n",
       "      <th>Duplicated</th>\n",
       "    </tr>\n",
       "  </thead>\n",
       "  <tbody>\n",
       "    <tr>\n",
       "      <th>False</th>\n",
       "      <td>21436</td>\n",
       "    </tr>\n",
       "    <tr>\n",
       "      <th>True</th>\n",
       "      <td>177</td>\n",
       "    </tr>\n",
       "  </tbody>\n",
       "</table>\n",
       "</div>"
      ],
      "text/plain": [
       "       Duplicated\n",
       "False       21436\n",
       "True          177"
      ]
     },
     "execution_count": 10,
     "metadata": {},
     "output_type": "execute_result"
    }
   ],
   "source": [
    "duplicated = pd.DataFrame(data=data.duplicated(subset=['id']).value_counts(), columns=['Duplicated'])\n",
    "duplicated"
   ]
  },
  {
   "cell_type": "code",
   "execution_count": 11,
   "metadata": {},
   "outputs": [
    {
     "data": {
      "text/html": [
       "<div>\n",
       "<style scoped>\n",
       "    .dataframe tbody tr th:only-of-type {\n",
       "        vertical-align: middle;\n",
       "    }\n",
       "\n",
       "    .dataframe tbody tr th {\n",
       "        vertical-align: top;\n",
       "    }\n",
       "\n",
       "    .dataframe thead th {\n",
       "        text-align: right;\n",
       "    }\n",
       "</style>\n",
       "<table border=\"1\" class=\"dataframe\">\n",
       "  <thead>\n",
       "    <tr style=\"text-align: right;\">\n",
       "      <th></th>\n",
       "      <th>id</th>\n",
       "      <th>date</th>\n",
       "      <th>price</th>\n",
       "      <th>bedrooms</th>\n",
       "      <th>bathrooms</th>\n",
       "      <th>sqft_living</th>\n",
       "      <th>sqft_lot</th>\n",
       "      <th>floors</th>\n",
       "      <th>waterfront</th>\n",
       "      <th>view</th>\n",
       "      <th>...</th>\n",
       "      <th>grade</th>\n",
       "      <th>sqft_above</th>\n",
       "      <th>sqft_basement</th>\n",
       "      <th>yr_built</th>\n",
       "      <th>yr_renovated</th>\n",
       "      <th>zipcode</th>\n",
       "      <th>lat</th>\n",
       "      <th>long</th>\n",
       "      <th>sqft_living15</th>\n",
       "      <th>sqft_lot15</th>\n",
       "    </tr>\n",
       "  </thead>\n",
       "  <tbody>\n",
       "    <tr>\n",
       "      <th>2497</th>\n",
       "      <td>1000102</td>\n",
       "      <td>2015-04-22</td>\n",
       "      <td>300,000.00</td>\n",
       "      <td>6</td>\n",
       "      <td>3.00</td>\n",
       "      <td>2400</td>\n",
       "      <td>9373</td>\n",
       "      <td>2.00</td>\n",
       "      <td>0</td>\n",
       "      <td>0</td>\n",
       "      <td>...</td>\n",
       "      <td>7</td>\n",
       "      <td>2400</td>\n",
       "      <td>0</td>\n",
       "      <td>1991</td>\n",
       "      <td>0</td>\n",
       "      <td>98002</td>\n",
       "      <td>47.33</td>\n",
       "      <td>-122.21</td>\n",
       "      <td>2060</td>\n",
       "      <td>7316</td>\n",
       "    </tr>\n",
       "    <tr>\n",
       "      <th>6735</th>\n",
       "      <td>1200019</td>\n",
       "      <td>2014-05-08</td>\n",
       "      <td>647,500.00</td>\n",
       "      <td>4</td>\n",
       "      <td>1.75</td>\n",
       "      <td>2060</td>\n",
       "      <td>26036</td>\n",
       "      <td>1.00</td>\n",
       "      <td>0</td>\n",
       "      <td>0</td>\n",
       "      <td>...</td>\n",
       "      <td>8</td>\n",
       "      <td>1160</td>\n",
       "      <td>900</td>\n",
       "      <td>1947</td>\n",
       "      <td>0</td>\n",
       "      <td>98166</td>\n",
       "      <td>47.44</td>\n",
       "      <td>-122.35</td>\n",
       "      <td>2590</td>\n",
       "      <td>21891</td>\n",
       "    </tr>\n",
       "    <tr>\n",
       "      <th>8411</th>\n",
       "      <td>1200021</td>\n",
       "      <td>2014-08-11</td>\n",
       "      <td>400,000.00</td>\n",
       "      <td>3</td>\n",
       "      <td>1.00</td>\n",
       "      <td>1460</td>\n",
       "      <td>43000</td>\n",
       "      <td>1.00</td>\n",
       "      <td>0</td>\n",
       "      <td>0</td>\n",
       "      <td>...</td>\n",
       "      <td>7</td>\n",
       "      <td>1460</td>\n",
       "      <td>0</td>\n",
       "      <td>1952</td>\n",
       "      <td>0</td>\n",
       "      <td>98166</td>\n",
       "      <td>47.44</td>\n",
       "      <td>-122.35</td>\n",
       "      <td>2250</td>\n",
       "      <td>20023</td>\n",
       "    </tr>\n",
       "    <tr>\n",
       "      <th>8809</th>\n",
       "      <td>2800031</td>\n",
       "      <td>2015-04-01</td>\n",
       "      <td>235,000.00</td>\n",
       "      <td>3</td>\n",
       "      <td>1.00</td>\n",
       "      <td>1430</td>\n",
       "      <td>7599</td>\n",
       "      <td>1.50</td>\n",
       "      <td>0</td>\n",
       "      <td>0</td>\n",
       "      <td>...</td>\n",
       "      <td>6</td>\n",
       "      <td>1010</td>\n",
       "      <td>420</td>\n",
       "      <td>1930</td>\n",
       "      <td>0</td>\n",
       "      <td>98168</td>\n",
       "      <td>47.48</td>\n",
       "      <td>-122.27</td>\n",
       "      <td>1290</td>\n",
       "      <td>10320</td>\n",
       "    </tr>\n",
       "    <tr>\n",
       "      <th>3557</th>\n",
       "      <td>3600057</td>\n",
       "      <td>2015-03-19</td>\n",
       "      <td>402,500.00</td>\n",
       "      <td>4</td>\n",
       "      <td>2.00</td>\n",
       "      <td>1650</td>\n",
       "      <td>3504</td>\n",
       "      <td>1.00</td>\n",
       "      <td>0</td>\n",
       "      <td>0</td>\n",
       "      <td>...</td>\n",
       "      <td>7</td>\n",
       "      <td>760</td>\n",
       "      <td>890</td>\n",
       "      <td>1951</td>\n",
       "      <td>2013</td>\n",
       "      <td>98144</td>\n",
       "      <td>47.58</td>\n",
       "      <td>-122.29</td>\n",
       "      <td>1480</td>\n",
       "      <td>3504</td>\n",
       "    </tr>\n",
       "  </tbody>\n",
       "</table>\n",
       "<p>5 rows × 21 columns</p>\n",
       "</div>"
      ],
      "text/plain": [
       "           id       date      price  bedrooms  bathrooms  sqft_living  \\\n",
       "2497  1000102 2015-04-22 300,000.00         6       3.00         2400   \n",
       "6735  1200019 2014-05-08 647,500.00         4       1.75         2060   \n",
       "8411  1200021 2014-08-11 400,000.00         3       1.00         1460   \n",
       "8809  2800031 2015-04-01 235,000.00         3       1.00         1430   \n",
       "3557  3600057 2015-03-19 402,500.00         4       2.00         1650   \n",
       "\n",
       "      sqft_lot  floors  waterfront  view  ...  grade  sqft_above  \\\n",
       "2497      9373    2.00           0     0  ...      7        2400   \n",
       "6735     26036    1.00           0     0  ...      8        1160   \n",
       "8411     43000    1.00           0     0  ...      7        1460   \n",
       "8809      7599    1.50           0     0  ...      6        1010   \n",
       "3557      3504    1.00           0     0  ...      7         760   \n",
       "\n",
       "      sqft_basement  yr_built  yr_renovated  zipcode   lat    long  \\\n",
       "2497              0      1991             0    98002 47.33 -122.21   \n",
       "6735            900      1947             0    98166 47.44 -122.35   \n",
       "8411              0      1952             0    98166 47.44 -122.35   \n",
       "8809            420      1930             0    98168 47.48 -122.27   \n",
       "3557            890      1951          2013    98144 47.58 -122.29   \n",
       "\n",
       "      sqft_living15  sqft_lot15  \n",
       "2497           2060        7316  \n",
       "6735           2590       21891  \n",
       "8411           2250       20023  \n",
       "8809           1290       10320  \n",
       "3557           1480        3504  \n",
       "\n",
       "[5 rows x 21 columns]"
      ]
     },
     "execution_count": 11,
     "metadata": {},
     "output_type": "execute_result"
    }
   ],
   "source": [
    "# getting rid of them\n",
    "\n",
    "data = data.drop_duplicates(subset = ['id'], keep = 'last')\n",
    "data.sort_values('id').head(5)"
   ]
  },
  {
   "cell_type": "code",
   "execution_count": 12,
   "metadata": {},
   "outputs": [
    {
     "data": {
      "text/plain": [
       "(21436, 21)"
      ]
     },
     "execution_count": 12,
     "metadata": {},
     "output_type": "execute_result"
    }
   ],
   "source": [
    "data.shape"
   ]
  },
  {
   "cell_type": "markdown",
   "metadata": {},
   "source": [
    "Now, let's check for any outliers that might affect our incoming analysis."
   ]
  },
  {
   "cell_type": "code",
   "execution_count": 13,
   "metadata": {},
   "outputs": [
    {
     "name": "stdout",
     "output_type": "stream",
     "text": [
      "Feature: bedrooms - [3, 2, 4, 5, 1, 6, 7, 0, 8, 9, 11, 10, 33]\n",
      "Feature: bathrooms - [1.0, 2.25, 3.0, 2.0, 4.5, 1.5, 2.5, 1.75, 2.75, 3.25, 4.0, 3.5, 0.75, 4.75, 5.0, 4.25, 3.75, 0.0, 1.25, 5.25, 6.0, 0.5, 5.5, 6.75, 5.75, 8.0, 7.5, 7.75, 6.25, 6.5]\n",
      "Feature: floors - [1.0, 2.0, 1.5, 3.0, 2.5, 3.5]\n",
      "Feature: waterfront - [0, 1]\n",
      "Feature: view - [0, 3, 4, 2, 1]\n",
      "Feature: condition - [3, 5, 4, 1, 2]\n",
      "Feature: grade - [7, 6, 8, 11, 9, 5, 10, 12, 4, 3, 13, 1]\n"
     ]
    }
   ],
   "source": [
    "unique = data[['bedrooms','bathrooms','floors','waterfront','view','condition','grade']]\n",
    "\n",
    "for i in unique:\n",
    "    print('Feature: {} - {}'.format(i, data[i].unique().tolist()))"
   ]
  },
  {
   "cell_type": "markdown",
   "metadata": {},
   "source": [
    "In 'bedrooms' column, we can observe that '33' is clearly out of range, so we can exclude this line."
   ]
  },
  {
   "cell_type": "code",
   "execution_count": 14,
   "metadata": {},
   "outputs": [],
   "source": [
    "data.loc[data['bedrooms'] == 33]\n",
    "data.drop(data.loc[data['bedrooms'] == 33].index, inplace=True)"
   ]
  },
  {
   "cell_type": "markdown",
   "metadata": {},
   "source": [
    "# 3. Explaratory Data Analysis"
   ]
  },
  {
   "cell_type": "markdown",
   "metadata": {},
   "source": [
    "## 3.1 Checking correlation"
   ]
  },
  {
   "cell_type": "code",
   "execution_count": 15,
   "metadata": {},
   "outputs": [
    {
     "data": {
      "image/png": "[encoded data removed]",
      "text/plain": [
       "<Figure size 1008x720 with 2 Axes>"
      ]
     },
     "metadata": {
      "needs_background": "light"
     },
     "output_type": "display_data"
    }
   ],
   "source": [
    "plt.figure(figsize=(14,10))\n",
    "sns.heatmap(data.corr(), annot=True)\n",
    "plt.show()"
   ]
  },
  {
   "cell_type": "markdown",
   "metadata": {},
   "source": [
    "## 3.2 Hypotheses\n",
    "\n",
    "Let's make some assumptions based on what we have seen until now, and evaluate them as true or false:\n",
    "\n",
    "- H1: Properties with waterfront are 30% more expensive, on average.\n",
    "\n",
    "- H2: Properties built in 1955 or older are 50% cheaper, on average.\n",
    "\n",
    "- H3: Properties without a basement are 40% larger than properties with a basement.\n",
    "\n",
    "- H4: YoY (Year over Year) property price growth is 10%.\n",
    "\n",
    "- H5: The greater the number of bathrooms, the higher the price"
   ]
  },
  {
   "cell_type": "markdown",
   "metadata": {},
   "source": [
    "## 3.3 Creating new columns"
   ]
  },
  {
   "cell_type": "code",
   "execution_count": 16,
   "metadata": {},
   "outputs": [],
   "source": [
    "# making a copy of the dataset\n",
    "df = data.copy()\n",
    "\n",
    "# column for H2. \n",
    "\n",
    "df['yr_old'] = df['yr_built'].apply(lambda x: '> 1955' if x > 1955 else '< 1955')\n",
    "\n",
    "# column for h3\n",
    "      \n",
    "df['basement'] = df['sqft_basement'].apply(lambda x: 'no' if x == 0 else 'yes')      \n",
    "\n",
    "# coluna for h4\n",
    "\n",
    "df['year'] = pd.to_datetime(df['date']).dt.year\n",
    "\n",
    "# coluna for h5\n",
    "\n",
    "df['describe_bathrooms'] = df['bathrooms'].apply(lambda x: '> 3' if x >= 3.0\n",
    "                                                                else '< 3')\n",
    "\n",
    "\n",
    "# creating seasons\n",
    "\n",
    "df['month'] = pd.to_datetime(df['date']).dt.month\n",
    "df['season'] = df['month'].apply(lambda x: 'summer' if (x > 5) & (x < 8) else\n",
    "                                           'spring' if (x > 2) & (x < 5) else\n",
    "                                           'fall' if (x > 8) & (x < 12) else\n",
    "                                           'winter')\n",
    "\n",
    "df['condition_name'] = df['condition'].apply(lambda x:   'worn-out' if x == 1 else\n",
    "                                                         'fair' if x == 2 else\n",
    "                                                         'average'if x == 3 else\n",
    "                                                         'good' if x == 4 else\n",
    "                                                         'excellent')\n",
    "\n",
    "df['grade_name'] = df['grade'].apply(lambda x: 'low-quality' if (x <= 3) else\n",
    "                                           'simple' if (x > 3) & (x <= 6) else\n",
    "                                           'fair' if (x > 6) & (x < 10) else\n",
    "                                           'high-quality')                                                        "
   ]
  },
  {
   "cell_type": "code",
   "execution_count": 17,
   "metadata": {},
   "outputs": [
    {
     "data": {
      "text/html": [
       "<div>\n",
       "<style scoped>\n",
       "    .dataframe tbody tr th:only-of-type {\n",
       "        vertical-align: middle;\n",
       "    }\n",
       "\n",
       "    .dataframe tbody tr th {\n",
       "        vertical-align: top;\n",
       "    }\n",
       "\n",
       "    .dataframe thead th {\n",
       "        text-align: right;\n",
       "    }\n",
       "</style>\n",
       "<table border=\"1\" class=\"dataframe\">\n",
       "  <thead>\n",
       "    <tr style=\"text-align: right;\">\n",
       "      <th></th>\n",
       "      <th>id</th>\n",
       "      <th>date</th>\n",
       "      <th>price</th>\n",
       "      <th>bedrooms</th>\n",
       "      <th>bathrooms</th>\n",
       "      <th>sqft_living</th>\n",
       "      <th>sqft_lot</th>\n",
       "      <th>floors</th>\n",
       "      <th>waterfront</th>\n",
       "      <th>view</th>\n",
       "      <th>...</th>\n",
       "      <th>sqft_living15</th>\n",
       "      <th>sqft_lot15</th>\n",
       "      <th>yr_old</th>\n",
       "      <th>basement</th>\n",
       "      <th>year</th>\n",
       "      <th>describe_bathrooms</th>\n",
       "      <th>month</th>\n",
       "      <th>season</th>\n",
       "      <th>condition_name</th>\n",
       "      <th>grade_name</th>\n",
       "    </tr>\n",
       "  </thead>\n",
       "  <tbody>\n",
       "    <tr>\n",
       "      <th>0</th>\n",
       "      <td>7129300520</td>\n",
       "      <td>2014-10-13</td>\n",
       "      <td>221,900.00</td>\n",
       "      <td>3</td>\n",
       "      <td>1.00</td>\n",
       "      <td>1180</td>\n",
       "      <td>5650</td>\n",
       "      <td>1.00</td>\n",
       "      <td>0</td>\n",
       "      <td>0</td>\n",
       "      <td>...</td>\n",
       "      <td>1340</td>\n",
       "      <td>5650</td>\n",
       "      <td>&lt; 1955</td>\n",
       "      <td>no</td>\n",
       "      <td>2014</td>\n",
       "      <td>&lt; 3</td>\n",
       "      <td>10</td>\n",
       "      <td>fall</td>\n",
       "      <td>average</td>\n",
       "      <td>fair</td>\n",
       "    </tr>\n",
       "    <tr>\n",
       "      <th>1</th>\n",
       "      <td>6414100192</td>\n",
       "      <td>2014-12-09</td>\n",
       "      <td>538,000.00</td>\n",
       "      <td>3</td>\n",
       "      <td>2.25</td>\n",
       "      <td>2570</td>\n",
       "      <td>7242</td>\n",
       "      <td>2.00</td>\n",
       "      <td>0</td>\n",
       "      <td>0</td>\n",
       "      <td>...</td>\n",
       "      <td>1690</td>\n",
       "      <td>7639</td>\n",
       "      <td>&lt; 1955</td>\n",
       "      <td>yes</td>\n",
       "      <td>2014</td>\n",
       "      <td>&lt; 3</td>\n",
       "      <td>12</td>\n",
       "      <td>winter</td>\n",
       "      <td>average</td>\n",
       "      <td>fair</td>\n",
       "    </tr>\n",
       "    <tr>\n",
       "      <th>2</th>\n",
       "      <td>5631500400</td>\n",
       "      <td>2015-02-25</td>\n",
       "      <td>180,000.00</td>\n",
       "      <td>2</td>\n",
       "      <td>1.00</td>\n",
       "      <td>770</td>\n",
       "      <td>10000</td>\n",
       "      <td>1.00</td>\n",
       "      <td>0</td>\n",
       "      <td>0</td>\n",
       "      <td>...</td>\n",
       "      <td>2720</td>\n",
       "      <td>8062</td>\n",
       "      <td>&lt; 1955</td>\n",
       "      <td>no</td>\n",
       "      <td>2015</td>\n",
       "      <td>&lt; 3</td>\n",
       "      <td>2</td>\n",
       "      <td>winter</td>\n",
       "      <td>average</td>\n",
       "      <td>simple</td>\n",
       "    </tr>\n",
       "    <tr>\n",
       "      <th>3</th>\n",
       "      <td>2487200875</td>\n",
       "      <td>2014-12-09</td>\n",
       "      <td>604,000.00</td>\n",
       "      <td>4</td>\n",
       "      <td>3.00</td>\n",
       "      <td>1960</td>\n",
       "      <td>5000</td>\n",
       "      <td>1.00</td>\n",
       "      <td>0</td>\n",
       "      <td>0</td>\n",
       "      <td>...</td>\n",
       "      <td>1360</td>\n",
       "      <td>5000</td>\n",
       "      <td>&gt; 1955</td>\n",
       "      <td>yes</td>\n",
       "      <td>2014</td>\n",
       "      <td>&gt; 3</td>\n",
       "      <td>12</td>\n",
       "      <td>winter</td>\n",
       "      <td>excellent</td>\n",
       "      <td>fair</td>\n",
       "    </tr>\n",
       "    <tr>\n",
       "      <th>4</th>\n",
       "      <td>1954400510</td>\n",
       "      <td>2015-02-18</td>\n",
       "      <td>510,000.00</td>\n",
       "      <td>3</td>\n",
       "      <td>2.00</td>\n",
       "      <td>1680</td>\n",
       "      <td>8080</td>\n",
       "      <td>1.00</td>\n",
       "      <td>0</td>\n",
       "      <td>0</td>\n",
       "      <td>...</td>\n",
       "      <td>1800</td>\n",
       "      <td>7503</td>\n",
       "      <td>&gt; 1955</td>\n",
       "      <td>no</td>\n",
       "      <td>2015</td>\n",
       "      <td>&lt; 3</td>\n",
       "      <td>2</td>\n",
       "      <td>winter</td>\n",
       "      <td>average</td>\n",
       "      <td>fair</td>\n",
       "    </tr>\n",
       "  </tbody>\n",
       "</table>\n",
       "<p>5 rows × 29 columns</p>\n",
       "</div>"
      ],
      "text/plain": [
       "           id       date      price  bedrooms  bathrooms  sqft_living  \\\n",
       "0  7129300520 2014-10-13 221,900.00         3       1.00         1180   \n",
       "1  6414100192 2014-12-09 538,000.00         3       2.25         2570   \n",
       "2  5631500400 2015-02-25 180,000.00         2       1.00          770   \n",
       "3  2487200875 2014-12-09 604,000.00         4       3.00         1960   \n",
       "4  1954400510 2015-02-18 510,000.00         3       2.00         1680   \n",
       "\n",
       "   sqft_lot  floors  waterfront  view  ...  sqft_living15  sqft_lot15  yr_old  \\\n",
       "0      5650    1.00           0     0  ...           1340        5650  < 1955   \n",
       "1      7242    2.00           0     0  ...           1690        7639  < 1955   \n",
       "2     10000    1.00           0     0  ...           2720        8062  < 1955   \n",
       "3      5000    1.00           0     0  ...           1360        5000  > 1955   \n",
       "4      8080    1.00           0     0  ...           1800        7503  > 1955   \n",
       "\n",
       "   basement  year  describe_bathrooms  month  season  condition_name  \\\n",
       "0        no  2014                 < 3     10    fall         average   \n",
       "1       yes  2014                 < 3     12  winter         average   \n",
       "2        no  2015                 < 3      2  winter         average   \n",
       "3       yes  2014                 > 3     12  winter       excellent   \n",
       "4        no  2015                 < 3      2  winter         average   \n",
       "\n",
       "   grade_name  \n",
       "0        fair  \n",
       "1        fair  \n",
       "2      simple  \n",
       "3        fair  \n",
       "4        fair  \n",
       "\n",
       "[5 rows x 29 columns]"
      ]
     },
     "execution_count": 17,
     "metadata": {},
     "output_type": "execute_result"
    }
   ],
   "source": [
    "df.head()"
   ]
  },
  {
   "cell_type": "markdown",
   "metadata": {},
   "source": [
    "# 4. Hypothesis Analysis"
   ]
  },
  {
   "cell_type": "markdown",
   "metadata": {},
   "source": [
    "- **H1: Properties with waterfront are 30% more expensive, on average.**"
   ]
  },
  {
   "cell_type": "code",
   "execution_count": 18,
   "metadata": {},
   "outputs": [
    {
     "data": {
      "image/png": "[encoded data removed]",
      "text/plain": [
       "<Figure size 720x432 with 1 Axes>"
      ]
     },
     "metadata": {
      "needs_background": "light"
     },
     "output_type": "display_data"
    }
   ],
   "source": [
    "# group the prices of properties with/without water view, then plot in bars to analyze the result.\n",
    "\n",
    "h1 = df[['price','waterfront']].groupby('waterfront').mean().reset_index()\n",
    "plt.figure(figsize=(10,6))\n",
    "sns.barplot(x = h1['waterfront'],y = h1['price'])\n",
    "plt.show()"
   ]
  },
  {
   "cell_type": "code",
   "execution_count": 19,
   "metadata": {},
   "outputs": [
    {
     "name": "stdout",
     "output_type": "stream",
     "text": [
      "H1: True. Properties with waterfront are 212% more expensive\n"
     ]
    }
   ],
   "source": [
    "h1_percent = (h1.loc[1,'price'] - h1.loc[0,'price']) / h1.loc[0,'price']\n",
    "print('H1: True. Properties with waterfront are {0:.0%} more expensive'.format(h1_percent))"
   ]
  },
  {
   "cell_type": "markdown",
   "metadata": {},
   "source": [
    "- **H2: Properties built in 1955 or older are 50% cheaper, on average.**"
   ]
  },
  {
   "cell_type": "code",
   "execution_count": 20,
   "metadata": {},
   "outputs": [
    {
     "data": {
      "image/png": "[encoded data removed]",
      "text/plain": [
       "<Figure size 864x576 with 1 Axes>"
      ]
     },
     "metadata": {
      "needs_background": "light"
     },
     "output_type": "display_data"
    }
   ],
   "source": [
    "# separate between < and > 1955\n",
    "\n",
    "h2 = df[['price','yr_old']].groupby('yr_old').mean().reset_index()\n",
    "\n",
    "x = h2['yr_old']\n",
    "y = h2['price']\n",
    "\n",
    "plt.figure(figsize=(12,8))\n",
    "sns.barplot(x = x,y = y, hue=h2['price'])\n",
    "plt.legend(loc='center')\n",
    "plt.show()\n"
   ]
  },
  {
   "cell_type": "code",
   "execution_count": 21,
   "metadata": {},
   "outputs": [
    {
     "name": "stdout",
     "output_type": "stream",
     "text": [
      "H2: False. Homes built before 1955 are on average just 1% cheaper.\n"
     ]
    }
   ],
   "source": [
    "h2_percent = (h2.loc[1,'price'] - h2.loc[0,'price']) / h2.loc[1,'price']\n",
    "print('H2: False. Homes built before 1955 are on average just {0:.0%} cheaper.'.format(h2_percent))"
   ]
  },
  {
   "cell_type": "markdown",
   "metadata": {},
   "source": [
    "- **H3: Properties without a basement are 40% larger than properties with a basement.**"
   ]
  },
  {
   "cell_type": "code",
   "execution_count": 22,
   "metadata": {},
   "outputs": [
    {
     "data": {
      "image/png": "[encoded data removed]",
      "text/plain": [
       "<Figure size 720x432 with 1 Axes>"
      ]
     },
     "metadata": {
      "needs_background": "light"
     },
     "output_type": "display_data"
    }
   ],
   "source": [
    "# create a column to convert the numeric values of the sqft_basement column to numeric\n",
    "\n",
    "# group between the two statements and create a variable where the difference in percentage is calculated.\n",
    "\n",
    "h3 = df[['sqft_lot','basement']].groupby('basement').mean().reset_index()\n",
    "\n",
    "plt.figure(figsize=(10,6))\n",
    "sns.barplot(x = h3['basement'],y = h3['sqft_lot'])\n",
    "plt.show()"
   ]
  },
  {
   "cell_type": "code",
   "execution_count": 23,
   "metadata": {},
   "outputs": [
    {
     "name": "stdout",
     "output_type": "stream",
     "text": [
      "H3: True. Properties without a basement have a 23% larger plot area. Although its lower than 40%, we will still consider it to be true because the difference is significant and can be used as a metric when defining the price for posterior sale.\n"
     ]
    }
   ],
   "source": [
    "h3_percent = (h3.loc[0,'sqft_lot'] - h3.loc[1,'sqft_lot']) / h3.loc[1,'sqft_lot']\n",
    "print('H3: True. Properties without a basement have a {0:.0%} larger plot area. Although its lower than 40%, we will still consider it to be true because the difference is significant and can be used as a metric when defining the price for posterior sale.'.format(h3_percent))"
   ]
  },
  {
   "cell_type": "markdown",
   "metadata": {},
   "source": [
    "- **H4: YoY (Year over Year) property price growth is 10%.**"
   ]
  },
  {
   "cell_type": "code",
   "execution_count": 24,
   "metadata": {},
   "outputs": [
    {
     "data": {
      "image/png": "[encoded data removed]",
      "text/plain": [
       "<Figure size 720x432 with 1 Axes>"
      ]
     },
     "metadata": {
      "needs_background": "light"
     },
     "output_type": "display_data"
    }
   ],
   "source": [
    "# create a column filtering the sale date only with its year. \n",
    "# then make a groupby and then a function with the percentage of the difference\n",
    "\n",
    "h4 = df[['price','year']].groupby('year').mean().reset_index()\n",
    "plt.figure(figsize=(10,6))\n",
    "sns.lineplot(x = h4['year'],y = h4['price'])\n",
    "plt.show()"
   ]
  },
  {
   "cell_type": "code",
   "execution_count": 25,
   "metadata": {},
   "outputs": [
    {
     "name": "stdout",
     "output_type": "stream",
     "text": [
      "H4: False. The price growth over the years was 0.18%.\n"
     ]
    }
   ],
   "source": [
    "h4_percent = (h4.loc[1,'price'] - h4.loc[0,'price']) / h4.loc[0,'price']\n",
    "print('H4: False. The price growth over the years was {0:.2%}.'.format(h4_percent))"
   ]
  },
  {
   "cell_type": "markdown",
   "metadata": {},
   "source": [
    "- **H5: The greater the number of bathrooms, the higher the price**"
   ]
  },
  {
   "cell_type": "code",
   "execution_count": 26,
   "metadata": {},
   "outputs": [
    {
     "data": {
      "image/png": "[encoded data removed]",
      "text/plain": [
       "<Figure size 720x432 with 1 Axes>"
      ]
     },
     "metadata": {
      "needs_background": "light"
     },
     "output_type": "display_data"
    }
   ],
   "source": [
    "h5 = df[['price', 'bathrooms']].groupby('bathrooms').mean().reset_index()\n",
    "\n",
    "plt.figure(figsize=(10,6))\n",
    "sns.barplot(x= h5['bathrooms'], y = h5['price'])\n",
    "plt.xticks( rotation=60 )\n",
    "plt.show()"
   ]
  },
  {
   "cell_type": "code",
   "execution_count": 27,
   "metadata": {},
   "outputs": [
    {
     "name": "stdout",
     "output_type": "stream",
     "text": [
      "H5: True. According to the graph, the price increases as the number of bathrooms increases. We can see that certain properties with 6 and 7 bathrooms are cheap. We may review the condition of that property and increase the resale price accordingly.\n"
     ]
    }
   ],
   "source": [
    "print('H5: True. According to the graph, the price increases as the number of bathrooms increases. We can see that certain properties with 6 and 7 bathrooms are cheap. We may review the condition of that property and increase the resale price accordingly.')"
   ]
  },
  {
   "cell_type": "markdown",
   "metadata": {},
   "source": [
    "# 5. Business Questions"
   ]
  },
  {
   "cell_type": "markdown",
   "metadata": {},
   "source": [
    "## 5.1 Which properties should House Rocket buy?"
   ]
  },
  {
   "cell_type": "code",
   "execution_count": 28,
   "metadata": {},
   "outputs": [],
   "source": [
    "# group properties by zipcode\n",
    "df1 = data[['zipcode','price']].groupby('zipcode').median().reset_index()\n",
    "\n",
    "# rename the price column created in df1 to price_median\n",
    "df1 = df1.rename(columns={'price': 'price_median'})\n",
    "\n",
    "# add this column to the original dataset\n",
    "df = pd.merge(df1,df,on='zipcode',how='inner')\n",
    "\n",
    "# create a column with the guidance whether or not to buy the properties, following the two conditions:\n",
    "\n",
    "# 1. If the property price is lower than the average price in that region\n",
    "# 2. If the condition of the property is at least average\n",
    "\n",
    "for i in range(len(df)):\n",
    "    \n",
    "    #1\n",
    "    if (df.loc[i,'price'] < df.loc[i,'price_median']) & (df.loc[i,'condition'] >= 3):\n",
    "        df.loc[i,'status'] = 'worth'\n",
    "    #2\n",
    "    else:\n",
    "        df.loc[i,'status'] = 'not worth'"
   ]
  },
  {
   "cell_type": "code",
   "execution_count": 29,
   "metadata": {},
   "outputs": [
    {
     "name": "stdout",
     "output_type": "stream",
     "text": [
      "There are 10505 properties are worth it for purchasing.\n"
     ]
    }
   ],
   "source": [
    "# create a report with only the columns of interest, sorting from the lowest price to the highest, considering the best real estate conditions\n",
    "\n",
    "houses_to_buy = df[df['status'] == 'worth'].sort_values(by=['condition_name','price'])\n",
    "\n",
    "print('There are {} properties are worth it for purchasing.'.format(len(houses_to_buy)))"
   ]
  },
  {
   "cell_type": "markdown",
   "metadata": {},
   "source": [
    "## 5.2. When is the best time to sell a house? At what price?"
   ]
  },
  {
   "cell_type": "code",
   "execution_count": 30,
   "metadata": {},
   "outputs": [],
   "source": [
    "# Para análisar essa questão, iremos levar em consideração a sazonalidade. Criei uma variável que define todas as estações do ano.\n",
    "\n",
    "# achar o preço mediano de cada zipcode em diferentes sazonalidades\n",
    "df2 = df[['zipcode','season','price']].groupby(['zipcode','season']).median().reset_index()\n",
    "\n",
    "#renomear coluna para combinar com o dataset original\n",
    "df2 = df2.rename(columns = {'price': 'price_median_season'})\n",
    "\n",
    "#juntar ao dataset original e filtrar apenas as casas aptas para compra\n",
    "df3= pd.merge(houses_to_buy,df2, how='inner', on=['zipcode','season'])"
   ]
  },
  {
   "cell_type": "code",
   "execution_count": 31,
   "metadata": {},
   "outputs": [],
   "source": [
    "# If the purchase price is greater than the region median + seasonality. The sale price will be equal to the purchase price +10%\n",
    "\n",
    "# If the purchase price is less than the region median + seasonality. The sale price will be equal to the purchase price +30%\n",
    "\n",
    "for i in range(len(df3)):\n",
    "    \n",
    "            if df3.loc[i, 'price'] <= df3.loc[i, 'price_median_season']:\n",
    "                 df3.loc[i, 'sale_price'] = df3.loc[i, 'price'] * 1.30\n",
    "            elif df3.loc[i, 'price'] > df3.loc[i, 'price_median_season']:\n",
    "                 df3.loc[i, 'sale_price'] = df3.loc[i, 'price'] * 1.10\n",
    "            else:\n",
    "                 pass\n",
    "                \n",
    "df3['profit'] = df3['sale_price'] - df3['price']"
   ]
  },
  {
   "cell_type": "code",
   "execution_count": 32,
   "metadata": {},
   "outputs": [
    {
     "data": {
      "text/html": [
       "<div>\n",
       "<style scoped>\n",
       "    .dataframe tbody tr th:only-of-type {\n",
       "        vertical-align: middle;\n",
       "    }\n",
       "\n",
       "    .dataframe tbody tr th {\n",
       "        vertical-align: top;\n",
       "    }\n",
       "\n",
       "    .dataframe thead th {\n",
       "        text-align: right;\n",
       "    }\n",
       "</style>\n",
       "<table border=\"1\" class=\"dataframe\">\n",
       "  <thead>\n",
       "    <tr style=\"text-align: right;\">\n",
       "      <th></th>\n",
       "      <th>zipcode</th>\n",
       "      <th>profit</th>\n",
       "    </tr>\n",
       "  </thead>\n",
       "  <tbody>\n",
       "    <tr>\n",
       "      <th>0</th>\n",
       "      <td>98052</td>\n",
       "      <td>41,495,434.30</td>\n",
       "    </tr>\n",
       "    <tr>\n",
       "      <th>1</th>\n",
       "      <td>98006</td>\n",
       "      <td>40,176,225.00</td>\n",
       "    </tr>\n",
       "    <tr>\n",
       "      <th>2</th>\n",
       "      <td>98004</td>\n",
       "      <td>38,613,096.50</td>\n",
       "    </tr>\n",
       "    <tr>\n",
       "      <th>3</th>\n",
       "      <td>98115</td>\n",
       "      <td>37,619,667.40</td>\n",
       "    </tr>\n",
       "    <tr>\n",
       "      <th>4</th>\n",
       "      <td>98103</td>\n",
       "      <td>36,547,490.30</td>\n",
       "    </tr>\n",
       "  </tbody>\n",
       "</table>\n",
       "</div>"
      ],
      "text/plain": [
       "   zipcode        profit\n",
       "0    98052 41,495,434.30\n",
       "1    98006 40,176,225.00\n",
       "2    98004 38,613,096.50\n",
       "3    98115 37,619,667.40\n",
       "4    98103 36,547,490.30"
      ]
     },
     "execution_count": 32,
     "metadata": {},
     "output_type": "execute_result"
    }
   ],
   "source": [
    "# top 5 profit properties \n",
    "\n",
    "df3[['id','zipcode','price','price_median','season','price_median_season','condition_name', 'grade_name','sale_price', 'profit']]\n",
    "pd.DataFrame(df3.groupby(['zipcode'])['profit'].sum().sort_values(ascending=False).reset_index()).head() # top 5 zipcode more profitable\n",
    "# df3.sort_values('profit', ascending=False).head() #top 5 properties\n"
   ]
  },
  {
   "cell_type": "code",
   "execution_count": 33,
   "metadata": {},
   "outputs": [
    {
     "name": "stdout",
     "output_type": "stream",
     "text": [
      "Total profit of the company will be: $1,186,638,788.20\n"
     ]
    }
   ],
   "source": [
    "# sum of profit company will have, following the suggestion\n",
    "\n",
    "amount = df3['profit'].sum()\n",
    "print('Total profit of the company will be: ${:,.2f}'.format(amount))"
   ]
  },
  {
   "cell_type": "code",
   "execution_count": 64,
   "metadata": {},
   "outputs": [
    {
     "data": {
      "text/html": [
       "<div>\n",
       "<style scoped>\n",
       "    .dataframe tbody tr th:only-of-type {\n",
       "        vertical-align: middle;\n",
       "    }\n",
       "\n",
       "    .dataframe tbody tr th {\n",
       "        vertical-align: top;\n",
       "    }\n",
       "\n",
       "    .dataframe thead th {\n",
       "        text-align: right;\n",
       "    }\n",
       "</style>\n",
       "<table border=\"1\" class=\"dataframe\">\n",
       "  <thead>\n",
       "    <tr style=\"text-align: right;\">\n",
       "      <th></th>\n",
       "      <th>zipcode</th>\n",
       "      <th>profit</th>\n",
       "    </tr>\n",
       "  </thead>\n",
       "  <tbody>\n",
       "    <tr>\n",
       "      <th>0</th>\n",
       "      <td>98052</td>\n",
       "      <td>41,495,434.30</td>\n",
       "    </tr>\n",
       "    <tr>\n",
       "      <th>1</th>\n",
       "      <td>98006</td>\n",
       "      <td>40,176,225.00</td>\n",
       "    </tr>\n",
       "    <tr>\n",
       "      <th>2</th>\n",
       "      <td>98004</td>\n",
       "      <td>38,613,096.50</td>\n",
       "    </tr>\n",
       "    <tr>\n",
       "      <th>3</th>\n",
       "      <td>98115</td>\n",
       "      <td>37,619,667.40</td>\n",
       "    </tr>\n",
       "    <tr>\n",
       "      <th>4</th>\n",
       "      <td>98103</td>\n",
       "      <td>36,547,490.30</td>\n",
       "    </tr>\n",
       "    <tr>\n",
       "      <th>...</th>\n",
       "      <td>...</td>\n",
       "      <td>...</td>\n",
       "    </tr>\n",
       "    <tr>\n",
       "      <th>65</th>\n",
       "      <td>98188</td>\n",
       "      <td>4,368,357.90</td>\n",
       "    </tr>\n",
       "    <tr>\n",
       "      <th>66</th>\n",
       "      <td>98032</td>\n",
       "      <td>3,709,854.50</td>\n",
       "    </tr>\n",
       "    <tr>\n",
       "      <th>67</th>\n",
       "      <td>98010</td>\n",
       "      <td>3,703,788.20</td>\n",
       "    </tr>\n",
       "    <tr>\n",
       "      <th>68</th>\n",
       "      <td>98024</td>\n",
       "      <td>3,701,821.00</td>\n",
       "    </tr>\n",
       "    <tr>\n",
       "      <th>69</th>\n",
       "      <td>98148</td>\n",
       "      <td>1,719,570.00</td>\n",
       "    </tr>\n",
       "  </tbody>\n",
       "</table>\n",
       "<p>70 rows × 2 columns</p>\n",
       "</div>"
      ],
      "text/plain": [
       "    zipcode        profit\n",
       "0     98052 41,495,434.30\n",
       "1     98006 40,176,225.00\n",
       "2     98004 38,613,096.50\n",
       "3     98115 37,619,667.40\n",
       "4     98103 36,547,490.30\n",
       "..      ...           ...\n",
       "65    98188  4,368,357.90\n",
       "66    98032  3,709,854.50\n",
       "67    98010  3,703,788.20\n",
       "68    98024  3,701,821.00\n",
       "69    98148  1,719,570.00\n",
       "\n",
       "[70 rows x 2 columns]"
      ]
     },
     "execution_count": 64,
     "metadata": {},
     "output_type": "execute_result"
    }
   ],
   "source": [
    "df3.groupby(['zipcode'])['profit'].sum().sort_values(ascending=False).reset_index()\n",
    "# df2 = df[['zipcode','season','price']].groupby(['zipcode','season']).median().reset_index()"
   ]
  },
  {
   "cell_type": "code",
   "execution_count": 67,
   "metadata": {},
   "outputs": [
    {
     "data": {
      "text/html": [
       "<div>\n",
       "<style scoped>\n",
       "    .dataframe tbody tr th:only-of-type {\n",
       "        vertical-align: middle;\n",
       "    }\n",
       "\n",
       "    .dataframe tbody tr th {\n",
       "        vertical-align: top;\n",
       "    }\n",
       "\n",
       "    .dataframe thead th {\n",
       "        text-align: right;\n",
       "    }\n",
       "</style>\n",
       "<table border=\"1\" class=\"dataframe\">\n",
       "  <thead>\n",
       "    <tr style=\"text-align: right;\">\n",
       "      <th></th>\n",
       "      <th>zipcode</th>\n",
       "      <th>price_median</th>\n",
       "      <th>id</th>\n",
       "      <th>date</th>\n",
       "      <th>price</th>\n",
       "      <th>bedrooms</th>\n",
       "      <th>bathrooms</th>\n",
       "      <th>sqft_living</th>\n",
       "      <th>sqft_lot</th>\n",
       "      <th>floors</th>\n",
       "      <th>...</th>\n",
       "      <th>year</th>\n",
       "      <th>describe_bathrooms</th>\n",
       "      <th>month</th>\n",
       "      <th>season</th>\n",
       "      <th>condition_name</th>\n",
       "      <th>grade_name</th>\n",
       "      <th>status</th>\n",
       "      <th>price_median_season</th>\n",
       "      <th>sale_price</th>\n",
       "      <th>profit</th>\n",
       "    </tr>\n",
       "  </thead>\n",
       "  <tbody>\n",
       "    <tr>\n",
       "      <th>6839</th>\n",
       "      <td>98052</td>\n",
       "      <td>615,000.00</td>\n",
       "      <td>8045000340</td>\n",
       "      <td>2014-08-02</td>\n",
       "      <td>565,000.00</td>\n",
       "      <td>3</td>\n",
       "      <td>2.50</td>\n",
       "      <td>1700</td>\n",
       "      <td>7210</td>\n",
       "      <td>2.00</td>\n",
       "      <td>...</td>\n",
       "      <td>2014</td>\n",
       "      <td>&lt; 3</td>\n",
       "      <td>8</td>\n",
       "      <td>winter</td>\n",
       "      <td>excellent</td>\n",
       "      <td>fair</td>\n",
       "      <td>worth</td>\n",
       "      <td>615,000.00</td>\n",
       "      <td>734,500.00</td>\n",
       "      <td>169,500.00</td>\n",
       "    </tr>\n",
       "    <tr>\n",
       "      <th>8309</th>\n",
       "      <td>98052</td>\n",
       "      <td>615,000.00</td>\n",
       "      <td>339600190</td>\n",
       "      <td>2014-10-14</td>\n",
       "      <td>420,000.00</td>\n",
       "      <td>3</td>\n",
       "      <td>1.00</td>\n",
       "      <td>1310</td>\n",
       "      <td>3963</td>\n",
       "      <td>1.00</td>\n",
       "      <td>...</td>\n",
       "      <td>2014</td>\n",
       "      <td>&lt; 3</td>\n",
       "      <td>10</td>\n",
       "      <td>fall</td>\n",
       "      <td>excellent</td>\n",
       "      <td>fair</td>\n",
       "      <td>worth</td>\n",
       "      <td>589,950.00</td>\n",
       "      <td>546,000.00</td>\n",
       "      <td>126,000.00</td>\n",
       "    </tr>\n",
       "    <tr>\n",
       "      <th>8310</th>\n",
       "      <td>98052</td>\n",
       "      <td>615,000.00</td>\n",
       "      <td>7955040160</td>\n",
       "      <td>2014-10-16</td>\n",
       "      <td>495,000.00</td>\n",
       "      <td>3</td>\n",
       "      <td>2.00</td>\n",
       "      <td>1460</td>\n",
       "      <td>9759</td>\n",
       "      <td>1.00</td>\n",
       "      <td>...</td>\n",
       "      <td>2014</td>\n",
       "      <td>&lt; 3</td>\n",
       "      <td>10</td>\n",
       "      <td>fall</td>\n",
       "      <td>excellent</td>\n",
       "      <td>fair</td>\n",
       "      <td>worth</td>\n",
       "      <td>589,950.00</td>\n",
       "      <td>643,500.00</td>\n",
       "      <td>148,500.00</td>\n",
       "    </tr>\n",
       "    <tr>\n",
       "      <th>8311</th>\n",
       "      <td>98052</td>\n",
       "      <td>615,000.00</td>\n",
       "      <td>9512501370</td>\n",
       "      <td>2014-11-05</td>\n",
       "      <td>544,300.00</td>\n",
       "      <td>4</td>\n",
       "      <td>1.75</td>\n",
       "      <td>1560</td>\n",
       "      <td>9000</td>\n",
       "      <td>1.00</td>\n",
       "      <td>...</td>\n",
       "      <td>2014</td>\n",
       "      <td>&lt; 3</td>\n",
       "      <td>11</td>\n",
       "      <td>fall</td>\n",
       "      <td>excellent</td>\n",
       "      <td>fair</td>\n",
       "      <td>worth</td>\n",
       "      <td>589,950.00</td>\n",
       "      <td>707,590.00</td>\n",
       "      <td>163,290.00</td>\n",
       "    </tr>\n",
       "    <tr>\n",
       "      <th>8803</th>\n",
       "      <td>98052</td>\n",
       "      <td>615,000.00</td>\n",
       "      <td>1842300050</td>\n",
       "      <td>2014-07-02</td>\n",
       "      <td>600,000.00</td>\n",
       "      <td>5</td>\n",
       "      <td>2.00</td>\n",
       "      <td>2190</td>\n",
       "      <td>9072</td>\n",
       "      <td>1.00</td>\n",
       "      <td>...</td>\n",
       "      <td>2014</td>\n",
       "      <td>&lt; 3</td>\n",
       "      <td>7</td>\n",
       "      <td>summer</td>\n",
       "      <td>excellent</td>\n",
       "      <td>fair</td>\n",
       "      <td>worth</td>\n",
       "      <td>615,000.00</td>\n",
       "      <td>780,000.00</td>\n",
       "      <td>180,000.00</td>\n",
       "    </tr>\n",
       "  </tbody>\n",
       "</table>\n",
       "<p>5 rows × 34 columns</p>\n",
       "</div>"
      ],
      "text/plain": [
       "      zipcode  price_median          id       date      price  bedrooms  \\\n",
       "6839    98052    615,000.00  8045000340 2014-08-02 565,000.00         3   \n",
       "8309    98052    615,000.00   339600190 2014-10-14 420,000.00         3   \n",
       "8310    98052    615,000.00  7955040160 2014-10-16 495,000.00         3   \n",
       "8311    98052    615,000.00  9512501370 2014-11-05 544,300.00         4   \n",
       "8803    98052    615,000.00  1842300050 2014-07-02 600,000.00         5   \n",
       "\n",
       "      bathrooms  sqft_living  sqft_lot  floors  ...  year  describe_bathrooms  \\\n",
       "6839       2.50         1700      7210    2.00  ...  2014                 < 3   \n",
       "8309       1.00         1310      3963    1.00  ...  2014                 < 3   \n",
       "8310       2.00         1460      9759    1.00  ...  2014                 < 3   \n",
       "8311       1.75         1560      9000    1.00  ...  2014                 < 3   \n",
       "8803       2.00         2190      9072    1.00  ...  2014                 < 3   \n",
       "\n",
       "      month  season  condition_name  grade_name  status  price_median_season  \\\n",
       "6839      8  winter       excellent        fair   worth           615,000.00   \n",
       "8309     10    fall       excellent        fair   worth           589,950.00   \n",
       "8310     10    fall       excellent        fair   worth           589,950.00   \n",
       "8311     11    fall       excellent        fair   worth           589,950.00   \n",
       "8803      7  summer       excellent        fair   worth           615,000.00   \n",
       "\n",
       "      sale_price     profit  \n",
       "6839  734,500.00 169,500.00  \n",
       "8309  546,000.00 126,000.00  \n",
       "8310  643,500.00 148,500.00  \n",
       "8311  707,590.00 163,290.00  \n",
       "8803  780,000.00 180,000.00  \n",
       "\n",
       "[5 rows x 34 columns]"
      ]
     },
     "execution_count": 67,
     "metadata": {},
     "output_type": "execute_result"
    }
   ],
   "source": [
    "df3.loc[(df3['zipcode'] == 98052) & (df3['condition_name'] == 'excellent')]\n"
   ]
  },
  {
   "cell_type": "code",
   "execution_count": 69,
   "metadata": {},
   "outputs": [
    {
     "data": {
      "image/png": "[encoded data removed]",
      "text/plain": [
       "<Figure size 1080x720 with 1 Axes>"
      ]
     },
     "metadata": {
      "needs_background": "light"
     },
     "output_type": "display_data"
    }
   ],
   "source": [
    "xticks = sorted(df3.zipcode.unique().tolist()) # tentei aplicar esse xticks, graifco fica em branco\n",
    "ticks = np.arange(98000, 98200, 1)\n",
    "labels = ticks\n",
    "\n",
    "\n",
    "plt.figure(figsize=(15,10))\n",
    "# sns.barplot(x=df3['zipcode'], y=df3['profit'])\n",
    "sns.barplot(data=df3.groupby(['zipcode'])['profit'].sum().reset_index(), x='zipcode', y='profit')\n",
    "# plt.xticks(ticks, labels)\n",
    "# plt.xticks([98000, 98020, 98040, 98060, 98080, 98100, 98120,98140, 98160, 98180, 98200])\n",
    "plt.show()"
   ]
  }
 ],
 "metadata": {
  "interpreter": {
   "hash": "19273effee7b9f1b28419f060dfec2cc45974e7f3ff846bb166f0365c29c097a"
  },
  "kernelspec": {
   "display_name": "Python 3.10.0 ('env': venv)",
   "language": "python",
   "name": "python3"
  },
  "language_info": {
   "codemirror_mode": {
    "name": "ipython",
    "version": 3
   },
   "file_extension": ".py",
   "mimetype": "text/x-python",
   "name": "python",
   "nbconvert_exporter": "python",
   "pygments_lexer": "ipython3",
   "version": "3.10.0"
  },
  "orig_nbformat": 4
 },
 "nbformat": 4,
 "nbformat_minor": 2
}
